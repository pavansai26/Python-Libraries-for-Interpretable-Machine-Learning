{
  "nbformat": 4,
  "nbformat_minor": 0,
  "metadata": {
    "colab": {
      "name": "Python Libraries for Interpretable Machine Learning.ipynb",
      "provenance": [],
      "private_outputs": true,
      "authorship_tag": "ABX9TyM9rNMfCSqZg3C7fy2G3C1A",
      "include_colab_link": true
    },
    "kernelspec": {
      "name": "python3",
      "display_name": "Python 3"
    },
    "accelerator": "GPU"
  },
  "cells": [
    {
      "cell_type": "markdown",
      "metadata": {
        "id": "view-in-github",
        "colab_type": "text"
      },
      "source": [
        "<a href=\"https://colab.research.google.com/github/pavansai26/Python-Libraries-for-Interpretable-Machine-Learning/blob/master/Python_Libraries_for_Interpretable_Machine_Learning.ipynb\" target=\"_parent\"><img src=\"https://colab.research.google.com/assets/colab-badge.svg\" alt=\"Open In Colab\"/></a>"
      ]
    },
    {
      "cell_type": "code",
      "metadata": {
        "id": "D_7p5-jeUxgm",
        "colab_type": "code",
        "colab": {}
      },
      "source": [
        "pip install yellowbrick"
      ],
      "execution_count": 0,
      "outputs": []
    },
    {
      "cell_type": "code",
      "metadata": {
        "id": "85_cmyFDU--K",
        "colab_type": "code",
        "colab": {}
      },
      "source": [
        "import pandas as pd\n",
        "from sklearn import datasets\n",
        "wine_data = datasets.load_wine()\n",
        "df_wine = pd.DataFrame(wine_data.data,columns=wine_data.feature_names)\n",
        "df_wine['target'] = pd.Series(wine_data.target)\n"
      ],
      "execution_count": 0,
      "outputs": []
    },
    {
      "cell_type": "code",
      "metadata": {
        "id": "D6hOPsTZVJX-",
        "colab_type": "code",
        "colab": {}
      },
      "source": [
        "from sklearn.model_selection import train_test_split\n",
        "X = df_wine.drop(['target'], axis=1)\n",
        "y = df_wine['target']\n",
        "X_train, X_test, y_train, y_test = train_test_split(X, y, test_size=0.2)"
      ],
      "execution_count": 0,
      "outputs": []
    },
    {
      "cell_type": "code",
      "metadata": {
        "id": "ZmkiBha1VKhV",
        "colab_type": "code",
        "colab": {}
      },
      "source": [
        "from sklearn.ensemble import RandomForestClassifier\n",
        "model = RandomForestClassifier()\n",
        "model.fit(X_train,y_train)"
      ],
      "execution_count": 0,
      "outputs": []
    },
    {
      "cell_type": "code",
      "metadata": {
        "id": "9ZGaKJvAWmTR",
        "colab_type": "code",
        "colab": {}
      },
      "source": [
        "pip install eli5"
      ],
      "execution_count": 0,
      "outputs": []
    },
    {
      "cell_type": "code",
      "metadata": {
        "id": "S78R5f1dVPvW",
        "colab_type": "code",
        "colab": {}
      },
      "source": [
        "import eli5\n",
        "eli5.show_weights(model, feature_names = X.columns.tolist())"
      ],
      "execution_count": 0,
      "outputs": []
    },
    {
      "cell_type": "code",
      "metadata": {
        "id": "z68HtCvUWj5W",
        "colab_type": "code",
        "colab": {}
      },
      "source": [
        "from eli5 import show_prediction\n",
        "show_prediction(model, X_train.iloc[1], feature_names = X.columns.tolist(), \n",
        "                show_feature_values=True)"
      ],
      "execution_count": 0,
      "outputs": []
    },
    {
      "cell_type": "code",
      "metadata": {
        "id": "M3izz8ckXSvr",
        "colab_type": "code",
        "colab": {}
      },
      "source": [
        "pip install lime"
      ],
      "execution_count": 0,
      "outputs": []
    },
    {
      "cell_type": "code",
      "metadata": {
        "id": "HDq1ouEvXiBC",
        "colab_type": "code",
        "colab": {}
      },
      "source": [
        "import lime.lime_tabular\n",
        "explainer = lime.lime_tabular.LimeTabularExplainer(X_train.values,                                            \n",
        "                 feature_names=X_train.columns.values.tolist(),                                        \n",
        "                 class_names=y_train.unique())"
      ],
      "execution_count": 0,
      "outputs": []
    },
    {
      "cell_type": "code",
      "metadata": {
        "id": "wuR5b1orXp8F",
        "colab_type": "code",
        "colab": {}
      },
      "source": [
        "predict_fn = lambda x: model.predict_proba(x).astype(float)"
      ],
      "execution_count": 0,
      "outputs": []
    },
    {
      "cell_type": "code",
      "metadata": {
        "id": "i62IV2riX1l4",
        "colab_type": "code",
        "colab": {}
      },
      "source": [
        "exp = explainer.explain_instance(X_test.values[0], predict_fn, num_features=6)\n",
        "exp.show_in_notebook(show_all=False)"
      ],
      "execution_count": 0,
      "outputs": []
    },
    {
      "cell_type": "code",
      "metadata": {
        "id": "BHUGACNbX61L",
        "colab_type": "code",
        "colab": {}
      },
      "source": [
        "pip install mlxtend"
      ],
      "execution_count": 0,
      "outputs": []
    },
    {
      "cell_type": "code",
      "metadata": {
        "id": "WVXj6I3rYDsu",
        "colab_type": "code",
        "colab": {}
      },
      "source": [
        "from mlxtend.plotting import plot_decision_regions\n",
        "from mlxtend.classifier import EnsembleVoteClassifier\n",
        "import matplotlib.gridspec as gridspec\n",
        "import itertools\n",
        "from sklearn import model_selection\n",
        "from sklearn.linear_model import LogisticRegression\n",
        "from sklearn.naive_bayes import GaussianNB\n",
        "from sklearn.ensemble import RandomForestClassifier"
      ],
      "execution_count": 0,
      "outputs": []
    },
    {
      "cell_type": "code",
      "metadata": {
        "id": "UhxUVMXTYJ3R",
        "colab_type": "code",
        "colab": {}
      },
      "source": [
        "X_train_ml = X_train[['proline', 'color_intensity']].values\n",
        "y_train_ml = y_train.values\n",
        "import matplotlib.pyplot as plt\n"
      ],
      "execution_count": 0,
      "outputs": []
    },
    {
      "cell_type": "code",
      "metadata": {
        "id": "r9009IAOb2xo",
        "colab_type": "code",
        "colab": {}
      },
      "source": [
        "clf1 = LogisticRegression(random_state=1)\n",
        "clf2 = RandomForestClassifier(random_state=1)\n",
        "clf3 = GaussianNB()\n",
        "eclf = EnsembleVoteClassifier(clfs=[clf1, clf2, clf3], weights=[1,1,1])\n",
        "value=1.5\n",
        "width=0.75\n",
        "gs = gridspec.GridSpec(2,2)\n",
        "fig = plt.figure(figsize=(10,8))\n",
        "labels = ['Logistic Regression', 'Random Forest', 'Naive Bayes', 'Ensemble']\n",
        "for clf, lab, grd in zip([clf1, clf2, clf3, eclf],\n",
        "                         labels,\n",
        "                         itertools.product([0, 1], repeat=2)):\n",
        "                         \n",
        "    clf.fit(X_train_ml, y_train_ml)\n",
        "    ax = plt.subplot(gs[grd[0], grd[1]])\n",
        "    fig = plot_decision_regions(X=X_train_ml, y=y_train_ml, clf=clf)\n",
        "    plt.title(lab)"
      ],
      "execution_count": 0,
      "outputs": []
    },
    {
      "cell_type": "code",
      "metadata": {
        "id": "RPKv1r3rb_Zl",
        "colab_type": "code",
        "colab": {}
      },
      "source": [
        ""
      ],
      "execution_count": 0,
      "outputs": []
    }
  ]
}